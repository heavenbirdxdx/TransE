{
 "cells": [
  {
   "cell_type": "code",
   "execution_count": 6,
   "metadata": {
    "collapsed": false
   },
   "outputs": [],
   "source": [
    "# 查看当前挂载的数据集目录, 该目录下的变更重启环境后会自动还原\n",
    "# View dataset directory. \n",
    "# This directory will be recovered automatically after resetting environment. \n",
    "!ls /home/aistudio/data"
   ]
  },
  {
   "cell_type": "code",
   "execution_count": 7,
   "metadata": {
    "collapsed": false
   },
   "outputs": [],
   "source": [
    "# 查看工作区文件, 该目录下的变更将会持久保存. 请及时清理不必要的文件, 避免加载过慢.\n",
    "# View personal work directory. \n",
    "# All changes under this directory will be kept even after reset. \n",
    "# Please clean unnecessary files in time to speed up environment loading. \n",
    "!ls /home/aistudio/work"
   ]
  },
  {
   "cell_type": "code",
   "execution_count": 8,
   "metadata": {
    "collapsed": false
   },
   "outputs": [
    {
     "name": "stdout",
     "output_type": "stream",
     "text": [
      "mkdir: cannot create directory ‘/home/aistudio/external-libraries’: File exists\n",
      "Looking in indexes: https://mirror.baidu.com/pypi/simple/\n",
      "Collecting beautifulsoup4\n",
      "\u001b[?25l  Downloading https://mirror.baidu.com/pypi/packages/69/bf/f0f194d3379d3f3347478bd267f754fc68c11cbf2fe302a6ab69447b1417/beautifulsoup4-4.10.0-py3-none-any.whl (97kB)\n",
      "\u001b[K     |████████████████████████████████| 102kB 12.4MB/s ta 0:00:01\n",
      "\u001b[?25hCollecting soupsieve>1.2 (from beautifulsoup4)\n",
      "  Downloading https://mirror.baidu.com/pypi/packages/72/a6/fd01694427f1c3fcadfdc5f1de901b813b9ac756f0806ef470cfed1de281/soupsieve-2.3.1-py3-none-any.whl\n",
      "Installing collected packages: soupsieve, beautifulsoup4\n",
      "Successfully installed beautifulsoup4-4.10.0 soupsieve-2.3.1\n",
      "\u001b[33mWARNING: Target directory /home/aistudio/external-libraries/beautifulsoup4-4.10.0.dist-info already exists. Specify --upgrade to force replacement.\u001b[0m\n",
      "\u001b[33mWARNING: Target directory /home/aistudio/external-libraries/soupsieve-2.3.1.dist-info already exists. Specify --upgrade to force replacement.\u001b[0m\n",
      "\u001b[33mWARNING: Target directory /home/aistudio/external-libraries/bs4 already exists. Specify --upgrade to force replacement.\u001b[0m\n",
      "\u001b[33mWARNING: Target directory /home/aistudio/external-libraries/soupsieve already exists. Specify --upgrade to force replacement.\u001b[0m\n"
     ]
    }
   ],
   "source": [
    "# 如果需要进行持久化安装, 需要使用持久化路径, 如下方代码示例:\n",
    "# If a persistence installation is required, \n",
    "# you need to use the persistence path as the following: \n",
    "!mkdir /home/aistudio/external-libraries\n",
    "!pip install beautifulsoup4 -t /home/aistudio/external-libraries"
   ]
  },
  {
   "cell_type": "code",
   "execution_count": 9,
   "metadata": {
    "collapsed": false
   },
   "outputs": [],
   "source": [
    "# 同时添加如下代码, 这样每次环境(kernel)启动的时候只要运行下方代码即可: \n",
    "# Also add the following code, \n",
    "# so that every time the environment (kernel) starts, \n",
    "# just run the following code: \n",
    "import sys \n",
    "sys.path.append('/home/aistudio/external-libraries')"
   ]
  },
  {
   "cell_type": "code",
   "execution_count": 10,
   "metadata": {
    "collapsed": false
   },
   "outputs": [
    {
     "name": "stdout",
     "output_type": "stream",
     "text": [
      "20\n",
      "118\n"
     ]
    }
   ],
   "source": [
    "relation2iddic = {}\r\n",
    "entity2iddic = {}\r\n",
    "relation2vecdic = {}\r\n",
    "entity2vecdic = {}\r\n",
    "\r\n",
    "with open('TransE/data/relation2id.txt', 'r') as fr:\r\n",
    "    lines = fr.readlines()\r\n",
    "    for line in lines:\r\n",
    "        list = line.split(\"\\t\")\r\n",
    "        if len(list) != 1:\r\n",
    "            relation2iddic[list[0]] = int(list[1].strip())\r\n",
    "            relation2iddic[list[1].strip()] = list[0]\r\n",
    "print(relation2iddic['P36'])\r\n",
    "\r\n",
    "with open('TransE/data/entity2id.txt', 'r') as fr:\r\n",
    "    lines = fr.readlines()\r\n",
    "    for line in lines:\r\n",
    "        list = line.split(\"\\t\")\r\n",
    "        if len(list) != 1:\r\n",
    "            entity2iddic[list[0]] = int(list[1].strip())\r\n",
    "            entity2iddic[list[1].strip()] = list[0]\r\n",
    "print(entity2iddic['Q30'])\r\n"
   ]
  },
  {
   "cell_type": "markdown",
   "metadata": {
    "collapsed": false
   },
   "source": [
    "请点击[此处](https://ai.baidu.com/docs#/AIStudio_Project_Notebook/a38e5576)查看本环境基本用法.  <br>\n",
    "Please click [here ](https://ai.baidu.com/docs#/AIStudio_Project_Notebook/a38e5576) for more detailed instructions. "
   ]
  },
  {
   "cell_type": "code",
   "execution_count": 74,
   "metadata": {
    "collapsed": false
   },
   "outputs": [
    {
     "name": "stdout",
     "output_type": "stream",
     "text": [
      "(378, 50)\n",
      "(50000, 50)\n"
     ]
    }
   ],
   "source": [
    "import numpy as np\r\n",
    "\r\n",
    "relationvec = np.loadtxt('TransE/relation2vec.txt')\r\n",
    "print(relationvec.shape)\r\n",
    "entityvec = np.loadtxt('TransE/entity2vec.txt')\r\n",
    "print(entityvec.shape)"
   ]
  },
  {
   "cell_type": "code",
   "execution_count": 12,
   "metadata": {
    "collapsed": false
   },
   "outputs": [],
   "source": [
    "def cal_sim(v1, v2, ord = 1):\r\n",
    "    return np.linalg.norm(v1 - v2, ord=1)"
   ]
  },
  {
   "cell_type": "code",
   "execution_count": 13,
   "metadata": {
    "collapsed": false
   },
   "outputs": [],
   "source": [
    "def get_similar_multi(v1: list, v2: list, ord=1):\r\n",
    "    res = []\r\n",
    "    v1 = (v1 - np.mean(v1, axis=0)) / np.std(v1, axis=0)\r\n",
    "    for v in v2:\r\n",
    "        v = (v - np.mean(v, axis=0)) / np.std(v, axis=0)\r\n",
    "        res.append(cal_sim(v1, v, ord=1))\r\n",
    "    return res"
   ]
  },
  {
   "cell_type": "code",
   "execution_count": 75,
   "metadata": {
    "collapsed": false
   },
   "outputs": [
    {
     "name": "stdout",
     "output_type": "stream",
     "text": [
      "[ 1.4317649   0.15170422 -0.26251881 -0.30571097 -1.25556568  1.45044169\n",
      " -0.38311542  1.67850702  2.3370622  -0.54868022 -0.5460969  -0.69543763\n",
      "  0.19987306 -0.31033149 -0.2685877  -0.78048993 -0.88355894 -0.78949354\n",
      " -1.20745383 -1.79875498 -0.09622983 -0.36452648  0.48126911 -0.57650071\n",
      "  0.97754561 -0.09094686  0.39709295 -0.30634493 -0.11954377  0.56629054\n",
      "  0.58427876 -0.53579214  4.18289718 -0.06981734  0.041429   -0.66050353\n",
      " -0.26386033  1.32515096  0.27030636 -0.49735347 -1.41350638  0.75687169\n",
      " -0.65513508 -0.18119665 -0.49339302 -0.4586085   0.08667736 -0.00769196\n",
      "  0.72564636 -0.81806195]\n",
      "[ 6.22073534e-02 -1.12702153e-01 -1.22723958e+00 -2.60108631e+00\n",
      " -1.92146125e-01 -6.24119525e-01 -1.06843448e-02  7.02000005e-02\n",
      "  5.71284118e-01 -1.58476751e-01  6.05325891e-01  1.00169992e+00\n",
      "  1.14684732e+00 -2.14152555e-02  4.97264926e-02  4.82835222e-01\n",
      " -4.60829440e-02  1.49195274e+00  9.57452480e-01  1.12645348e+00\n",
      " -1.67374171e+00  1.66114868e+00 -3.54857794e-01  3.20045764e+00\n",
      " -1.14861036e+00  2.39140766e-01 -7.03271406e-01  8.33810938e-01\n",
      "  3.68873455e-01 -6.88748506e-01 -9.13407237e-01 -2.83775629e-01\n",
      " -5.15316288e-01 -5.77718649e-01 -1.20102401e+00  2.72744144e-02\n",
      "  3.62604852e-01 -2.22263923e+00 -1.68453733e-04 -4.48089584e-01\n",
      "  1.72311776e+00  4.73007783e-01 -6.12164556e-01  2.77561947e-01\n",
      "  8.50423805e-01 -1.02126102e+00 -7.50087425e-01  2.79490648e-01\n",
      " -1.73560517e-01  4.19497655e-01]\n",
      "[ 1.53792232  0.87949061  0.25260459 -0.9646797  -0.25524713  1.50782658\n",
      " -0.57397102 -0.74293671  0.65521919 -1.44343986 -1.54777189  1.57051721\n",
      "  0.37810068  0.18084044  1.89295156  0.14620119  0.99311906 -0.48698901\n",
      "  0.47851735  1.28974227 -0.97165033 -0.12783052 -1.79060914  0.6465847\n",
      " -0.28830358  0.84318525 -0.60431667  0.91842121 -0.28387038 -0.28913663\n",
      " -2.21273744  2.59752541 -0.33184074 -1.22850539  0.03276412 -0.90823247\n",
      " -0.21508496 -0.97573454  0.1121068  -0.52714667 -0.17239661  1.23085667\n",
      " -1.30380664  0.12869582 -0.17935148 -1.1322202  -0.42759682  0.51293596\n",
      "  1.10269257  0.09658499]\n"
     ]
    }
   ],
   "source": [
    "P36vec = relationvec[relation2iddic['P36']]\r\n",
    "Q30vec = entityvec[entity2iddic['Q30']]\r\n",
    "Q49vec = entityvec[entity2iddic['Q49']]\r\n",
    "P36vec = (P36vec - np.mean(P36vec)) / np.std(P36vec)\r\n",
    "Q30vec = (Q30vec - np.mean(Q30vec)) / np.std(Q30vec)\r\n",
    "Q49vec = (Q49vec - np.mean(Q49vec)) / np.std(Q49vec)\r\n",
    "print(P36vec)\r\n",
    "print(Q30vec)\r\n",
    "print(Q49vec)"
   ]
  },
  {
   "cell_type": "code",
   "execution_count": 73,
   "metadata": {
    "collapsed": false
   },
   "outputs": [
    {
     "name": "stdout",
     "output_type": "stream",
     "text": [
      "[118, 3729, 8505, 391, 7482]\n",
      "['Q30', 'Q65', 'Q1183', 'Q64', 'Q16557']\n"
     ]
    }
   ],
   "source": [
    "import heapq\r\n",
    "array = get_similar_multi(Q30vec+P36vec, entityvec, ord = 1)\r\n",
    "max_indexs = heapq.nsmallest(5, range(len(array)), array.__getitem__)\r\n",
    "print(max_indexs)\r\n",
    "\r\n",
    "print([entity2iddic[str(indexs)] for indexs in max_indexs])"
   ]
  },
  {
   "cell_type": "code",
   "execution_count": 71,
   "metadata": {
    "collapsed": false
   },
   "outputs": [
    {
     "name": "stdout",
     "output_type": "stream",
     "text": [
      "[179, 18, 312, 366, 91]\n",
      "['P1532', 'P17', 'P1336', 'P1408', 'P495']\n"
     ]
    }
   ],
   "source": [
    "array = get_similar_multi(Q30vec-Q49vec, relationvec, ord = 1)\r\n",
    "max_indexs = heapq.nsmallest(5, range(len(array)), array.__getitem__)\r\n",
    "print(max_indexs)\r\n",
    "\r\n",
    "print([relation2iddic[str(indexs)] for indexs in max_indexs])"
   ]
  }
 ],
 "metadata": {
  "kernelspec": {
   "display_name": "PaddlePaddle 1.8.0 (Python 3.5)",
   "language": "python",
   "name": "py35-paddle1.2.0"
  },
  "language_info": {
   "codemirror_mode": {
    "name": "ipython",
    "version": 3
   },
   "file_extension": ".py",
   "mimetype": "text/x-python",
   "name": "python",
   "nbconvert_exporter": "python",
   "pygments_lexer": "ipython3",
   "version": "3.7.4"
  }
 },
 "nbformat": 4,
 "nbformat_minor": 1
}
